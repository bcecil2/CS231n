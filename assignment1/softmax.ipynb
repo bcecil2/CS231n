{
 "cells": [
  {
   "cell_type": "markdown",
   "metadata": {
    "tags": [
     "pdf-title"
    ]
   },
   "source": [
    "# Softmax exercise\n",
    "\n",
    "*Complete and hand in this completed worksheet (including its outputs and any supporting code outside of the worksheet) with your assignment submission. For more details see the [assignments page](http://vision.stanford.edu/teaching/cs231n/assignments.html) on the course website.*\n",
    "\n",
    "This exercise is analogous to the SVM exercise. You will:\n",
    "\n",
    "- implement a fully-vectorized **loss function** for the Softmax classifier\n",
    "- implement the fully-vectorized expression for its **analytic gradient**\n",
    "- **check your implementation** with numerical gradient\n",
    "- use a validation set to **tune the learning rate and regularization** strength\n",
    "- **optimize** the loss function with **SGD**\n",
    "- **visualize** the final learned weights\n"
   ]
  },
  {
   "cell_type": "code",
   "execution_count": 4,
   "metadata": {
    "tags": [
     "pdf-ignore"
    ]
   },
   "outputs": [
    {
     "name": "stdout",
     "output_type": "stream",
     "text": [
      "The autoreload extension is already loaded. To reload it, use:\n",
      "  %reload_ext autoreload\n"
     ]
    }
   ],
   "source": [
    "import random\n",
    "import numpy as np\n",
    "from cs231n.data_utils import load_CIFAR10\n",
    "import matplotlib.pyplot as plt\n",
    "\n",
    "%matplotlib inline\n",
    "plt.rcParams['figure.figsize'] = (10.0, 8.0) # set default size of plots\n",
    "plt.rcParams['image.interpolation'] = 'nearest'\n",
    "plt.rcParams['image.cmap'] = 'gray'\n",
    "\n",
    "# for auto-reloading extenrnal modules\n",
    "# see http://stackoverflow.com/questions/1907993/autoreload-of-modules-in-ipython\n",
    "%load_ext autoreload\n",
    "%autoreload 2"
   ]
  },
  {
   "cell_type": "code",
   "execution_count": 5,
   "metadata": {
    "tags": [
     "pdf-ignore"
    ]
   },
   "outputs": [
    {
     "name": "stdout",
     "output_type": "stream",
     "text": [
      "Train data shape:  (49000, 3073)\n",
      "Train labels shape:  (49000,)\n",
      "Validation data shape:  (1000, 3073)\n",
      "Validation labels shape:  (1000,)\n",
      "Test data shape:  (1000, 3073)\n",
      "Test labels shape:  (1000,)\n",
      "dev data shape:  (500, 3073)\n",
      "dev labels shape:  (500,)\n"
     ]
    }
   ],
   "source": [
    "def get_CIFAR10_data(num_training=49000, num_validation=1000, num_test=1000, num_dev=500):\n",
    "    \"\"\"\n",
    "    Load the CIFAR-10 dataset from disk and perform preprocessing to prepare\n",
    "    it for the linear classifier. These are the same steps as we used for the\n",
    "    SVM, but condensed to a single function.  \n",
    "    \"\"\"\n",
    "    # Load the raw CIFAR-10 data\n",
    "    cifar10_dir = 'cs231n/datasets/cifar-10-batches-py'\n",
    "    \n",
    "    # Cleaning up variables to prevent loading data multiple times (which may cause memory issue)\n",
    "    try:\n",
    "       del X_train, y_train\n",
    "       del X_test, y_test\n",
    "       print('Clear previously loaded data.')\n",
    "    except:\n",
    "       pass\n",
    "\n",
    "    X_train, y_train, X_test, y_test = load_CIFAR10(cifar10_dir)\n",
    "    \n",
    "    # subsample the data\n",
    "    mask = list(range(num_training, num_training + num_validation))\n",
    "    X_val = X_train[mask]\n",
    "    y_val = y_train[mask]\n",
    "    mask = list(range(num_training))\n",
    "    X_train = X_train[mask]\n",
    "    y_train = y_train[mask]\n",
    "    mask = list(range(num_test))\n",
    "    X_test = X_test[mask]\n",
    "    y_test = y_test[mask]\n",
    "    mask = np.random.choice(num_training, num_dev, replace=False)\n",
    "    X_dev = X_train[mask]\n",
    "    y_dev = y_train[mask]\n",
    "    \n",
    "    # Preprocessing: reshape the image data into rows\n",
    "    X_train = np.reshape(X_train, (X_train.shape[0], -1))\n",
    "    X_val = np.reshape(X_val, (X_val.shape[0], -1))\n",
    "    X_test = np.reshape(X_test, (X_test.shape[0], -1))\n",
    "    X_dev = np.reshape(X_dev, (X_dev.shape[0], -1))\n",
    "    \n",
    "    # Normalize the data: subtract the mean image\n",
    "    mean_image = np.mean(X_train, axis = 0)\n",
    "    X_train -= mean_image\n",
    "    X_val -= mean_image\n",
    "    X_test -= mean_image\n",
    "    X_dev -= mean_image\n",
    "    \n",
    "    # add bias dimension and transform into columns\n",
    "    X_train = np.hstack([X_train, np.ones((X_train.shape[0], 1))])\n",
    "    X_val = np.hstack([X_val, np.ones((X_val.shape[0], 1))])\n",
    "    X_test = np.hstack([X_test, np.ones((X_test.shape[0], 1))])\n",
    "    X_dev = np.hstack([X_dev, np.ones((X_dev.shape[0], 1))])\n",
    "    \n",
    "    return X_train, y_train, X_val, y_val, X_test, y_test, X_dev, y_dev\n",
    "\n",
    "\n",
    "# Invoke the above function to get our data.\n",
    "X_train, y_train, X_val, y_val, X_test, y_test, X_dev, y_dev = get_CIFAR10_data()\n",
    "print('Train data shape: ', X_train.shape)\n",
    "print('Train labels shape: ', y_train.shape)\n",
    "print('Validation data shape: ', X_val.shape)\n",
    "print('Validation labels shape: ', y_val.shape)\n",
    "print('Test data shape: ', X_test.shape)\n",
    "print('Test labels shape: ', y_test.shape)\n",
    "print('dev data shape: ', X_dev.shape)\n",
    "print('dev labels shape: ', y_dev.shape)"
   ]
  },
  {
   "cell_type": "markdown",
   "metadata": {},
   "source": [
    "## Softmax Classifier\n",
    "\n",
    "Your code for this section will all be written inside `cs231n/classifiers/softmax.py`.\n"
   ]
  },
  {
   "cell_type": "code",
   "execution_count": 43,
   "metadata": {},
   "outputs": [
    {
     "name": "stdout",
     "output_type": "stream",
     "text": [
      "loss: 2.372993\n",
      "sanity check: 2.302585\n"
     ]
    }
   ],
   "source": [
    "# First implement the naive softmax loss function with nested loops.\n",
    "# Open the file cs231n/classifiers/softmax.py and implement the\n",
    "# softmax_loss_naive function.\n",
    "\n",
    "from cs231n.classifiers.softmax import softmax_loss_naive\n",
    "import time\n",
    "\n",
    "# Generate a random softmax weight matrix and use it to compute the loss.\n",
    "W = np.random.randn(3073, 10) * 0.0001\n",
    "loss, grad = softmax_loss_naive(W, X_dev, y_dev, 0.0)\n",
    "\n",
    "# As a rough sanity check, our loss should be something close to -log(0.1).\n",
    "print('loss: %f' % loss)\n",
    "print('sanity check: %f' % (-np.log(0.1)))"
   ]
  },
  {
   "cell_type": "markdown",
   "metadata": {
    "tags": [
     "pdf-inline"
    ]
   },
   "source": [
    "**Inline Question 1**\n",
    "\n",
    "Why do we expect our loss to be close to -log(0.1)? Explain briefly.**\n",
    "\n",
    "$\\color{blue}{\\textit Your Answer:}$ *Fill this in* \n",
    "\n"
   ]
  },
  {
   "cell_type": "code",
   "execution_count": 42,
   "metadata": {},
   "outputs": [
    {
     "name": "stdout",
     "output_type": "stream",
     "text": [
      "numerical: 1.530796 analytic: 1.530795, relative error: 3.890078e-08\n",
      "numerical: 3.865372 analytic: 3.865372, relative error: 1.299984e-08\n",
      "numerical: 0.848556 analytic: 0.848556, relative error: 5.668478e-08\n",
      "numerical: 0.382754 analytic: 0.382754, relative error: 6.533805e-08\n",
      "numerical: 4.015302 analytic: 4.015302, relative error: 8.180023e-10\n",
      "numerical: -2.180282 analytic: -2.180282, relative error: 1.831741e-08\n",
      "numerical: 0.276588 analytic: 0.276588, relative error: 1.497306e-07\n",
      "numerical: 3.626078 analytic: 3.626078, relative error: 4.398738e-09\n",
      "numerical: -1.193500 analytic: -1.193500, relative error: 1.514444e-08\n",
      "numerical: 1.024643 analytic: 1.024642, relative error: 6.481091e-08\n",
      "numerical: 2.261636 analytic: 2.261636, relative error: 6.122757e-09\n",
      "numerical: -0.258328 analytic: -0.258328, relative error: 1.980774e-07\n",
      "numerical: 1.862741 analytic: 1.862741, relative error: 3.492834e-08\n",
      "numerical: -0.345586 analytic: -0.345586, relative error: 2.654910e-07\n",
      "numerical: 1.256735 analytic: 1.256735, relative error: 5.601834e-08\n",
      "numerical: -1.254993 analytic: -1.254993, relative error: 2.711195e-09\n",
      "numerical: -0.668385 analytic: -0.668385, relative error: 4.961875e-08\n",
      "numerical: -1.101706 analytic: -1.101706, relative error: 2.075787e-08\n",
      "numerical: 0.763514 analytic: 0.763514, relative error: 1.636430e-10\n",
      "numerical: -1.590041 analytic: -1.590041, relative error: 2.279832e-08\n"
     ]
    }
   ],
   "source": [
    "# Complete the implementation of softmax_loss_naive and implement a (naive)\n",
    "# version of the gradient that uses nested loops.\n",
    "loss, grad = softmax_loss_naive(W, X_dev, y_dev, 0.0)\n",
    "\n",
    "# As we did for the SVM, use numeric gradient checking as a debugging tool.\n",
    "# The numeric gradient should be close to the analytic gradient.\n",
    "from cs231n.gradient_check import grad_check_sparse\n",
    "f = lambda w: softmax_loss_naive(w, X_dev, y_dev, 0.0)[0]\n",
    "grad_numerical = grad_check_sparse(f, W, grad, 10)\n",
    "\n",
    "# similar to SVM case, do another gradient check with regularization\n",
    "loss, grad = softmax_loss_naive(W, X_dev, y_dev, 5e1)\n",
    "f = lambda w: softmax_loss_naive(w, X_dev, y_dev, 5e1)[0]\n",
    "grad_numerical = grad_check_sparse(f, W, grad, 10)"
   ]
  },
  {
   "cell_type": "code",
   "execution_count": 44,
   "metadata": {},
   "outputs": [
    {
     "name": "stdout",
     "output_type": "stream",
     "text": [
      "naive loss: 2.372993e+00 computed in 0.450813s\n",
      "vectorized loss: 2.372993e+00 computed in 0.006981s\n",
      "Loss difference: 0.000000\n",
      "Gradient difference: 0.000000\n"
     ]
    }
   ],
   "source": [
    "# Now that we have a naive implementation of the softmax loss function and its gradient,\n",
    "# implement a vectorized version in softmax_loss_vectorized.\n",
    "# The two versions should compute the same results, but the vectorized version should be\n",
    "# much faster.\n",
    "tic = time.time()\n",
    "loss_naive, grad_naive = softmax_loss_naive(W, X_dev, y_dev, 0.000005)\n",
    "toc = time.time()\n",
    "print('naive loss: %e computed in %fs' % (loss_naive, toc - tic))\n",
    "\n",
    "from cs231n.classifiers.softmax import softmax_loss_vectorized\n",
    "tic = time.time()\n",
    "loss_vectorized, grad_vectorized = softmax_loss_vectorized(W, X_dev, y_dev, 0.000005)\n",
    "toc = time.time()\n",
    "print('vectorized loss: %e computed in %fs' % (loss_vectorized, toc - tic))\n",
    "\n",
    "# As we did for the SVM, we use the Frobenius norm to compare the two versions\n",
    "# of the gradient.\n",
    "grad_difference = np.linalg.norm(grad_naive - grad_vectorized, ord='fro')\n",
    "print('Loss difference: %f' % np.abs(loss_naive - loss_vectorized))\n",
    "print('Gradient difference: %f' % grad_difference)"
   ]
  },
  {
   "cell_type": "code",
   "execution_count": 47,
   "metadata": {
    "id": "tuning",
    "tags": [
     "code"
    ]
   },
   "outputs": [
    {
     "name": "stdout",
     "output_type": "stream",
     "text": [
      "iteration 0 / 3000: loss 387.072911\n",
      "iteration 100 / 3000: loss 233.809481\n",
      "iteration 200 / 3000: loss 142.197622\n",
      "iteration 300 / 3000: loss 86.760471\n",
      "iteration 400 / 3000: loss 53.273622\n",
      "iteration 500 / 3000: loss 32.999724\n",
      "iteration 600 / 3000: loss 20.711421\n",
      "iteration 700 / 3000: loss 13.441330\n",
      "iteration 800 / 3000: loss 8.898820\n",
      "iteration 900 / 3000: loss 6.160633\n",
      "iteration 1000 / 3000: loss 4.565441\n",
      "iteration 1100 / 3000: loss 3.496514\n",
      "iteration 1200 / 3000: loss 2.960178\n",
      "iteration 1300 / 3000: loss 2.552659\n",
      "iteration 1400 / 3000: loss 2.336514\n",
      "iteration 1500 / 3000: loss 2.224675\n",
      "iteration 1600 / 3000: loss 2.165461\n",
      "iteration 1700 / 3000: loss 2.116001\n",
      "iteration 1800 / 3000: loss 2.138851\n",
      "iteration 1900 / 3000: loss 2.079452\n",
      "iteration 2000 / 3000: loss 2.094660\n",
      "iteration 2100 / 3000: loss 2.081797\n",
      "iteration 2200 / 3000: loss 1.999334\n",
      "iteration 2300 / 3000: loss 1.992929\n",
      "iteration 2400 / 3000: loss 2.028750\n",
      "iteration 2500 / 3000: loss 2.023643\n",
      "iteration 2600 / 3000: loss 2.018287\n",
      "iteration 2700 / 3000: loss 2.019027\n",
      "iteration 2800 / 3000: loss 2.019334\n",
      "iteration 2900 / 3000: loss 2.021228\n",
      "iteration 0 / 3000: loss 790.255164\n",
      "iteration 100 / 3000: loss 290.568085\n",
      "iteration 200 / 3000: loss 107.550793\n",
      "iteration 300 / 3000: loss 40.640687\n",
      "iteration 400 / 3000: loss 16.156225\n",
      "iteration 500 / 3000: loss 7.232924\n",
      "iteration 600 / 3000: loss 3.946951\n",
      "iteration 700 / 3000: loss 2.832436\n",
      "iteration 800 / 3000: loss 2.332845\n",
      "iteration 900 / 3000: loss 2.180838\n",
      "iteration 1000 / 3000: loss 2.149479\n",
      "iteration 1100 / 3000: loss 2.090174\n",
      "iteration 1200 / 3000: loss 2.091243\n",
      "iteration 1300 / 3000: loss 2.081970\n",
      "iteration 1400 / 3000: loss 2.107158\n",
      "iteration 1500 / 3000: loss 2.132618\n",
      "iteration 1600 / 3000: loss 2.116957\n",
      "iteration 1700 / 3000: loss 2.082244\n",
      "iteration 1800 / 3000: loss 2.018532\n",
      "iteration 1900 / 3000: loss 2.054199\n",
      "iteration 2000 / 3000: loss 2.093334\n",
      "iteration 2100 / 3000: loss 2.059388\n",
      "iteration 2200 / 3000: loss 2.054547\n",
      "iteration 2300 / 3000: loss 2.052701\n",
      "iteration 2400 / 3000: loss 2.050396\n",
      "iteration 2500 / 3000: loss 2.022190\n",
      "iteration 2600 / 3000: loss 2.107425\n",
      "iteration 2700 / 3000: loss 2.135316\n",
      "iteration 2800 / 3000: loss 2.101866\n",
      "iteration 2900 / 3000: loss 2.142475\n",
      "iteration 0 / 3000: loss 387.605779\n",
      "iteration 100 / 3000: loss 32.774680\n",
      "iteration 200 / 3000: loss 4.518040\n",
      "iteration 300 / 3000: loss 2.227321\n",
      "iteration 400 / 3000: loss 1.971796\n",
      "iteration 500 / 3000: loss 2.027288\n",
      "iteration 600 / 3000: loss 2.043683\n",
      "iteration 700 / 3000: loss 2.055715\n",
      "iteration 800 / 3000: loss 1.998518\n",
      "iteration 900 / 3000: loss 2.038202\n",
      "iteration 1000 / 3000: loss 1.989254\n",
      "iteration 1100 / 3000: loss 2.019480\n",
      "iteration 1200 / 3000: loss 2.025427\n",
      "iteration 1300 / 3000: loss 2.038095\n",
      "iteration 1400 / 3000: loss 2.071349\n",
      "iteration 1500 / 3000: loss 1.992495\n",
      "iteration 1600 / 3000: loss 2.060830\n",
      "iteration 1700 / 3000: loss 2.010301\n",
      "iteration 1800 / 3000: loss 2.036559\n",
      "iteration 1900 / 3000: loss 2.040055\n",
      "iteration 2000 / 3000: loss 2.038289\n",
      "iteration 2100 / 3000: loss 2.047923\n",
      "iteration 2200 / 3000: loss 2.114784\n",
      "iteration 2300 / 3000: loss 1.960881\n",
      "iteration 2400 / 3000: loss 1.988218\n",
      "iteration 2500 / 3000: loss 2.102069\n",
      "iteration 2600 / 3000: loss 1.957727\n",
      "iteration 2700 / 3000: loss 2.087210\n",
      "iteration 2800 / 3000: loss 1.999519\n",
      "iteration 2900 / 3000: loss 2.054074\n",
      "iteration 0 / 3000: loss 772.439261\n",
      "iteration 100 / 3000: loss 6.874676\n",
      "iteration 200 / 3000: loss 2.136602\n",
      "iteration 300 / 3000: loss 2.038044\n",
      "iteration 400 / 3000: loss 2.085643\n",
      "iteration 500 / 3000: loss 2.186923\n",
      "iteration 600 / 3000: loss 2.095288\n",
      "iteration 700 / 3000: loss 2.022515\n",
      "iteration 800 / 3000: loss 2.116387\n",
      "iteration 900 / 3000: loss 2.070669\n",
      "iteration 1000 / 3000: loss 2.094325\n",
      "iteration 1100 / 3000: loss 2.002818\n",
      "iteration 1200 / 3000: loss 2.015829\n",
      "iteration 1300 / 3000: loss 2.105370\n",
      "iteration 1400 / 3000: loss 2.081579\n",
      "iteration 1500 / 3000: loss 2.137419\n",
      "iteration 1600 / 3000: loss 2.069090\n",
      "iteration 1700 / 3000: loss 2.023182\n",
      "iteration 1800 / 3000: loss 2.113342\n",
      "iteration 1900 / 3000: loss 2.047514\n",
      "iteration 2000 / 3000: loss 2.092804\n",
      "iteration 2100 / 3000: loss 2.094596\n",
      "iteration 2200 / 3000: loss 2.187677\n",
      "iteration 2300 / 3000: loss 2.095826\n",
      "iteration 2400 / 3000: loss 2.101422\n",
      "iteration 2500 / 3000: loss 2.029159\n",
      "iteration 2600 / 3000: loss 2.105023\n",
      "iteration 2700 / 3000: loss 2.068877\n",
      "iteration 2800 / 3000: loss 2.121558\n",
      "iteration 2900 / 3000: loss 2.097549\n",
      "lr 1.000000e-07 reg 2.500000e+04 train accuracy: 0.350510 val accuracy: 0.367000\n",
      "lr 1.000000e-07 reg 5.000000e+04 train accuracy: 0.330429 val accuracy: 0.350000\n",
      "lr 5.000000e-07 reg 2.500000e+04 train accuracy: 0.340388 val accuracy: 0.356000\n",
      "lr 5.000000e-07 reg 5.000000e+04 train accuracy: 0.325633 val accuracy: 0.344000\n",
      "best validation accuracy achieved during cross-validation: 0.367000\n"
     ]
    }
   ],
   "source": [
    "# Use the validation set to tune hyperparameters (regularization strength and\n",
    "# learning rate). You should experiment with different ranges for the learning\n",
    "# rates and regularization strengths; if you are careful you should be able to\n",
    "# get a classification accuracy of over 0.35 on the validation set.\n",
    "\n",
    "from cs231n.classifiers import Softmax\n",
    "results = {}\n",
    "best_val = -1\n",
    "best_softmax = None\n",
    "\n",
    "################################################################################\n",
    "# TODO:                                                                        #\n",
    "# Use the validation set to set the learning rate and regularization strength. #\n",
    "# This should be identical to the validation that you did for the SVM; save    #\n",
    "# the best trained softmax classifer in best_softmax.                          #\n",
    "################################################################################\n",
    "\n",
    "# Provided as a reference. You may or may not want to change these hyperparameters\n",
    "learning_rates = [1e-7, 5e-7]\n",
    "regularization_strengths = [2.5e4, 5e4]\n",
    "\n",
    "# *****START OF YOUR CODE (DO NOT DELETE/MODIFY THIS LINE)*****\n",
    "\n",
    "for l in learning_rates:\n",
    "    for r in regularization_strengths:\n",
    "        sm = Softmax()\n",
    "        sm.train(X_train, y_train, learning_rate=l, reg=r,num_iters=3000, verbose=True)\n",
    "        y_train_pred = sm.predict(X_train)\n",
    "        y_train_pred = (np.mean(y_train == y_train_pred))\n",
    "        y_val_pred = sm.predict(X_val)\n",
    "        y_val_pred = (np.mean(y_val == y_val_pred))\n",
    "        results[(l,r)] = (y_train_pred,y_val_pred)\n",
    "        if best_val <= y_val_pred:\n",
    "            best_val = y_val_pred\n",
    "            best_softmax = sm\n",
    "\n",
    "# *****END OF YOUR CODE (DO NOT DELETE/MODIFY THIS LINE)*****\n",
    "    \n",
    "# Print out results.\n",
    "for lr, reg in sorted(results):\n",
    "    train_accuracy, val_accuracy = results[(lr, reg)]\n",
    "    print('lr %e reg %e train accuracy: %f val accuracy: %f' % (\n",
    "                lr, reg, train_accuracy, val_accuracy))\n",
    "    \n",
    "print('best validation accuracy achieved during cross-validation: %f' % best_val)"
   ]
  },
  {
   "cell_type": "code",
   "execution_count": 48,
   "metadata": {
    "id": "test"
   },
   "outputs": [
    {
     "name": "stdout",
     "output_type": "stream",
     "text": [
      "softmax on raw pixels final test set accuracy: 0.368000\n"
     ]
    }
   ],
   "source": [
    "# evaluate on test set\n",
    "# Evaluate the best softmax on test set\n",
    "y_test_pred = best_softmax.predict(X_test)\n",
    "test_accuracy = np.mean(y_test == y_test_pred)\n",
    "print('softmax on raw pixels final test set accuracy: %f' % (test_accuracy, ))"
   ]
  },
  {
   "cell_type": "markdown",
   "metadata": {
    "tags": [
     "pdf-inline"
    ]
   },
   "source": [
    "**Inline Question 2** - *True or False*\n",
    "\n",
    "Suppose the overall training loss is defined as the sum of the per-datapoint loss over all training examples. It is possible to add a new datapoint to a training set that would leave the SVM loss unchanged, but this is not the case with the Softmax classifier loss.\n",
    "\n",
    "$\\color{blue}{\\textit Your Answer:}$\n",
    "\n",
    "\n",
    "$\\color{blue}{\\textit Your Explanation:}$\n",
    "\n"
   ]
  },
  {
   "cell_type": "code",
   "execution_count": 49,
   "metadata": {},
   "outputs": [
    {
     "data": {
      "image/png": "[encoded data removed]",
      "text/plain": [
       "<Figure size 720x576 with 10 Axes>"
      ]
     },
     "metadata": {
      "needs_background": "light"
     },
     "output_type": "display_data"
    }
   ],
   "source": [
    "# Visualize the learned weights for each class\n",
    "w = best_softmax.W[:-1,:] # strip out the bias\n",
    "w = w.reshape(32, 32, 3, 10)\n",
    "\n",
    "w_min, w_max = np.min(w), np.max(w)\n",
    "\n",
    "classes = ['plane', 'car', 'bird', 'cat', 'deer', 'dog', 'frog', 'horse', 'ship', 'truck']\n",
    "for i in range(10):\n",
    "    plt.subplot(2, 5, i + 1)\n",
    "    \n",
    "    # Rescale the weights to be between 0 and 255\n",
    "    wimg = 255.0 * (w[:, :, :, i].squeeze() - w_min) / (w_max - w_min)\n",
    "    plt.imshow(wimg.astype('uint8'))\n",
    "    plt.axis('off')\n",
    "    plt.title(classes[i])"
   ]
  },
  {
   "cell_type": "code",
   "execution_count": null,
   "metadata": {},
   "outputs": [],
   "source": []
  }
 ],
 "metadata": {
  "kernelspec": {
   "display_name": "Python 3",
   "language": "python",
   "name": "python3"
  },
  "language_info": {
   "codemirror_mode": {
    "name": "ipython",
    "version": 3
   },
   "file_extension": ".py",
   "mimetype": "text/x-python",
   "name": "python",
   "nbconvert_exporter": "python",
   "pygments_lexer": "ipython3",
   "version": "3.8.3"
  }
 },
 "nbformat": 4,
 "nbformat_minor": 1
}
